{
 "cells": [
  {
   "cell_type": "markdown",
   "metadata": {},
   "source": [
    "# Exploratory data analysis of T-cell epitopes from IEDB\n",
    "\n",
    "The dataset was downloaded from the IEDB [resource](http://www.iedb.org/database_export_v3.php)."
   ]
  },
  {
   "cell_type": "markdown",
   "metadata": {},
   "source": [
    "Current dataset has a two level column index which helps to query it.\n",
    "Below you can see selector for a final dataset. It includes:\n",
    "1. Object Type of Epitope can only be a Linear peptide\n",
    "2. Organism Name of Epitope is not Homo sapiens\n",
    "3. Host Name can be: Homo sapiens, Homo sapiens Black or Homo sapiens Caucasian\n",
    "4. 1st in vivo Process Type is Occurrence of infectious disease"
   ]
  },
  {
   "cell_type": "code",
   "execution_count": 5,
   "metadata": {},
   "outputs": [],
   "source": [
    "import pandas as pd\n",
    "import warnings\n",
    "warnings.filterwarnings(\"ignore\")"
   ]
  },
  {
   "cell_type": "code",
   "execution_count": 6,
   "metadata": {},
   "outputs": [],
   "source": [
    "df = pd.read_csv('data/tcell_full_v3.tar.gz', compression = \"gzip\", header=[0, 1])"
   ]
  },
  {
   "cell_type": "code",
   "execution_count": 8,
   "metadata": {
    "scrolled": true
   },
   "outputs": [
    {
     "data": {
      "text/plain": [
       "(365868, 143)"
      ]
     },
     "execution_count": 8,
     "metadata": {},
     "output_type": "execute_result"
    }
   ],
   "source": [
    "df.shape"
   ]
  },
  {
   "cell_type": "code",
   "execution_count": 9,
   "metadata": {},
   "outputs": [
    {
     "data": {
      "text/plain": [
       "Index(['./._tcell_full_v3.csv', 'Reference', 'Epitope', 'Related Object',\n",
       "       'Host', '1st in vivo Process', '2nd in vivo Process',\n",
       "       'In Vitro Process', 'Adoptive Transfer', 'Immunization Comments',\n",
       "       'Assay', 'Effector Cells', 'TCR', 'Antigen Presenting Cells', 'MHC',\n",
       "       'Assay Antigen', 'Assay Comments'],\n",
       "      dtype='object')"
      ]
     },
     "execution_count": 9,
     "metadata": {},
     "output_type": "execute_result"
    }
   ],
   "source": [
    "df.columns.get_level_values(0).unique()"
   ]
  },
  {
   "cell_type": "code",
   "execution_count": 11,
   "metadata": {
    "scrolled": true
   },
   "outputs": [
    {
     "data": {
      "text/plain": [
       "(57836, 143)"
      ]
     },
     "execution_count": 11,
     "metadata": {},
     "output_type": "execute_result"
    }
   ],
   "source": [
    "ndf = df[(df.Epitope['Object Type'] == 'Linear peptide') & \n",
    "         (df.Epitope['Organism Name'] != 'Homo sapiens') & \n",
    "         (df.Host.Name.isin(['Homo sapiens', 'Homo sapiens Black', 'Homo sapiens Caucasian'])) & \n",
    "         (df['1st in vivo Process']['Process Type'] == 'Occurrence of infectious disease')]\n",
    "ndf.shape"
   ]
  },
  {
   "cell_type": "code",
   "execution_count": 14,
   "metadata": {},
   "outputs": [
    {
     "data": {
      "text/plain": [
       "Negative                 40680\n",
       "Positive                 16410\n",
       "Positive-Low               543\n",
       "Positive-High              167\n",
       "Positive-Intermediate       36\n",
       "Name: Qualitative Measure, dtype: int64"
      ]
     },
     "execution_count": 14,
     "metadata": {},
     "output_type": "execute_result"
    }
   ],
   "source": [
    "ndf.Assay[\"Qualitative Measure\"].value_counts()"
   ]
  },
  {
   "cell_type": "code",
   "execution_count": 17,
   "metadata": {},
   "outputs": [
    {
     "data": {
      "text/plain": [
       "7835"
      ]
     },
     "execution_count": 17,
     "metadata": {},
     "output_type": "execute_result"
    }
   ],
   "source": [
    "ndf[ndf.Assay[\"Qualitative Measure\"].str.startswith(\"Positive\")].Epitope.Description.nunique()"
   ]
  },
  {
   "cell_type": "code",
   "execution_count": 18,
   "metadata": {},
   "outputs": [
    {
     "data": {
      "text/plain": [
       "32878"
      ]
     },
     "execution_count": 18,
     "metadata": {},
     "output_type": "execute_result"
    }
   ],
   "source": [
    "ndf[ndf.Assay[\"Qualitative Measure\"].str.startswith(\"Negative\")].Epitope.Description.nunique()"
   ]
  },
  {
   "cell_type": "code",
   "execution_count": 21,
   "metadata": {},
   "outputs": [
    {
     "data": {
      "text/plain": [
       "Mycobacterium tuberculosis                               21160\n",
       "Hepatitis C virus subtype 1a                              4694\n",
       "Human alphaherpesvirus 2                                  2306\n",
       "Hepatitis C virus subtype 1b                              1829\n",
       "Brucella melitensis                                        970\n",
       "Hepatitis E virus                                          901\n",
       "Hepacivirus C                                              646\n",
       "Severe acute respiratory syndrome-related coronavirus      552\n",
       "Japanese encephalitis virus                                444\n",
       "Hepatitis B virus                                          425\n",
       "Name: Organism Name, dtype: int64"
      ]
     },
     "execution_count": 21,
     "metadata": {},
     "output_type": "execute_result"
    }
   ],
   "source": [
    "ndf[ndf.Assay[\"Qualitative Measure\"].str.startswith(\"Negative\")].Epitope[\"Organism Name\"].value_counts()[:10]"
   ]
  },
  {
   "cell_type": "code",
   "execution_count": 43,
   "metadata": {},
   "outputs": [],
   "source": [
    "# ndf[(ndf.Assay[\"Qualitative Measure\"].str.startswith(\"Negative\")) &\n",
    "#     (ndf.MHC.Class == \"I\")].Epitope[\"Organism Name\"].nunique()"
   ]
  },
  {
   "cell_type": "code",
   "execution_count": 42,
   "metadata": {},
   "outputs": [],
   "source": [
    "# ndf[(ndf.Assay[\"Qualitative Measure\"].str.startswith(\"Positive\")) &\n",
    "#     (ndf.MHC.Class == \"I\")].Epitope[\"Organism Name\"].nunique()"
   ]
  },
  {
   "cell_type": "code",
   "execution_count": 41,
   "metadata": {},
   "outputs": [],
   "source": [
    "# ndf[ndf.Assay[\"Qualitative Measure\"].str.startswith(\"Positive\")].Epitope[\"Organism Name\"].value_counts()[:10]"
   ]
  },
  {
   "cell_type": "code",
   "execution_count": 40,
   "metadata": {},
   "outputs": [],
   "source": [
    "# ndf[(ndf.Epitope[\"Organism Name\"] == \"Mycobacterium tuberculosis\") &\n",
    "#     (ndf.Assay[\"Qualitative Measure\"] == \"Negative\")][\"MHC\"][\"Class\"].value_counts()"
   ]
  },
  {
   "cell_type": "code",
   "execution_count": 39,
   "metadata": {},
   "outputs": [],
   "source": [
    "# ndf[(ndf.Epitope[\"Organism Name\"] == \"Mycobacterium tuberculosis\") &\n",
    "#     (ndf.Assay[\"Qualitative Measure\"] == \"Negative\")].Assay[]"
   ]
  }
 ],
 "metadata": {
  "kernelspec": {
   "display_name": "Python 3",
   "language": "python",
   "name": "python3"
  },
  "language_info": {
   "codemirror_mode": {
    "name": "ipython",
    "version": 3
   },
   "file_extension": ".py",
   "mimetype": "text/x-python",
   "name": "python",
   "nbconvert_exporter": "python",
   "pygments_lexer": "ipython3",
   "version": "3.7.3"
  }
 },
 "nbformat": 4,
 "nbformat_minor": 2
}
